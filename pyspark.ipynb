{
 "cells": [
  {
   "cell_type": "code",
   "execution_count": 1,
   "metadata": {},
   "outputs": [],
   "source": [
    "from pyspark.sql import SparkSession\n",
    "from pyspark.sql import functions as sf\n",
    "from pyspark.sql.window import Window\n",
    "import re"
   ]
  },
  {
   "cell_type": "markdown",
   "metadata": {},
   "source": [
    "### SparkSession + config options"
   ]
  },
  {
   "cell_type": "code",
   "execution_count": 2,
   "metadata": {},
   "outputs": [],
   "source": [
    "spark = SparkSession\\\n",
    "    .builder\\\n",
    "    .appName(\"PySpark learning\")\\\n",
    "    .config(\"spark.driver.memory\", \"2g\")\\\n",
    "    .getOrCreate()"
   ]
  },
  {
   "cell_type": "markdown",
   "metadata": {},
   "source": [
    "### Reading csv file with header"
   ]
  },
  {
   "cell_type": "code",
   "execution_count": 3,
   "metadata": {},
   "outputs": [],
   "source": [
    "df = spark\\\n",
    "    .read\\\n",
    "    .option(\"header\", \"true\")\\\n",
    "    .option(\"inferSchema\", 'true')\\\n",
    "    .csv(\"data/chess_games.csv\")"
   ]
  },
  {
   "cell_type": "code",
   "execution_count": 4,
   "metadata": {},
   "outputs": [
    {
     "name": "stdout",
     "output_type": "stream",
     "text": [
      "+--------+-----+----------+------------+-----+--------------+------+--------------+-------------+------------+------------+------------+--------------------+-----------+--------------------+-----------+\n",
      "|      id|rated|created_at|last_move_at|turns|victory_status|winner|increment_code|     white_id|white_rating|    black_id|black_rating|               moves|opening_eco|        opening_name|opening_ply|\n",
      "+--------+-----+----------+------------+-----+--------------+------+--------------+-------------+------------+------------+------------+--------------------+-----------+--------------------+-----------+\n",
      "|TZJHLljE|false|1.50421E12|  1.50421E12|   13|     outoftime| white|          15+2|     bourgris|        1500|        a-00|        1191|d4 d5 c4 c6 cxd5 ...|        D10|Slav Defense: Exc...|          5|\n",
      "|l1NXvwaE| true|1.50413E12|  1.50413E12|   16|        resign| black|          5+10|         a-00|        1322|   skinnerua|        1261|d4 Nc6 e4 e5 f4 f...|        B00|Nimzowitsch Defen...|          4|\n",
      "|mIICvQHh| true|1.50413E12|  1.50413E12|   61|          mate| white|          5+10|       ischia|        1496|        a-00|        1500|e4 e5 d3 d6 Be3 c...|        C20|King's Pawn Game:...|          3|\n",
      "|kWKvrqYL| true|1.50411E12|  1.50411E12|   61|          mate| white|          20+0|daniamurashov|        1439|adivanov2009|        1454|d4 d5 Nf3 Bf5 Nc3...|        D02|Queen's Pawn Game...|          3|\n",
      "|9tXo1AUZ| true|1.50403E12|  1.50403E12|   95|          mate| white|          30+3|    nik221107|        1523|adivanov2009|        1469|e4 e5 Nf3 d6 d4 N...|        C41|    Philidor Defense|          5|\n",
      "+--------+-----+----------+------------+-----+--------------+------+--------------+-------------+------------+------------+------------+--------------------+-----------+--------------------+-----------+\n",
      "only showing top 5 rows\n",
      "\n"
     ]
    }
   ],
   "source": [
    "df.show(5)"
   ]
  },
  {
   "cell_type": "markdown",
   "metadata": {},
   "source": [
    "### Assigning new columns and changing existing ones"
   ]
  },
  {
   "cell_type": "code",
   "execution_count": 5,
   "metadata": {},
   "outputs": [],
   "source": [
    "df = df\\\n",
    "    .withColumn(\"game_start\", sf.to_timestamp(sf.from_unixtime(df.created_at / 1000)))\\\n",
    "    .withColumn(\"game_end\", sf.to_timestamp(sf.from_unixtime(df.last_move_at / 1000)))\\\n",
    "    .withColumn(\"rating_difference\", df.white_rating - df.black_rating)\\\n",
    "    .drop(\"created_at\", \"last_move_at\")\\\n",
    "    .withColumnRenamed(\"opening_ply\", \"opening_move_count\")"
   ]
  },
  {
   "cell_type": "code",
   "execution_count": 6,
   "metadata": {},
   "outputs": [
    {
     "name": "stdout",
     "output_type": "stream",
     "text": [
      "+--------+-----+-----+--------------+------+--------------+-------------+------------+------------+------------+--------------------+-----------+--------------------+------------------+-------------------+-------------------+-----------------+\n",
      "|      id|rated|turns|victory_status|winner|increment_code|     white_id|white_rating|    black_id|black_rating|               moves|opening_eco|        opening_name|opening_move_count|         game_start|           game_end|rating_difference|\n",
      "+--------+-----+-----+--------------+------+--------------+-------------+------------+------------+------------+--------------------+-----------+--------------------+------------------+-------------------+-------------------+-----------------+\n",
      "|TZJHLljE|false|   13|     outoftime| white|          15+2|     bourgris|        1500|        a-00|        1191|d4 d5 c4 c6 cxd5 ...|        D10|Slav Defense: Exc...|                 5|2017-08-31 22:06:40|2017-08-31 22:06:40|              309|\n",
      "|l1NXvwaE| true|   16|        resign| black|          5+10|         a-00|        1322|   skinnerua|        1261|d4 Nc6 e4 e5 f4 f...|        B00|Nimzowitsch Defen...|                 4|2017-08-30 23:53:20|2017-08-30 23:53:20|               61|\n",
      "|mIICvQHh| true|   61|          mate| white|          5+10|       ischia|        1496|        a-00|        1500|e4 e5 d3 d6 Be3 c...|        C20|King's Pawn Game:...|                 3|2017-08-30 23:53:20|2017-08-30 23:53:20|               -4|\n",
      "|kWKvrqYL| true|   61|          mate| white|          20+0|daniamurashov|        1439|adivanov2009|        1454|d4 d5 Nf3 Bf5 Nc3...|        D02|Queen's Pawn Game...|                 3|2017-08-30 18:20:00|2017-08-30 18:20:00|              -15|\n",
      "|9tXo1AUZ| true|   95|          mate| white|          30+3|    nik221107|        1523|adivanov2009|        1469|e4 e5 Nf3 d6 d4 N...|        C41|    Philidor Defense|                 5|2017-08-29 20:06:40|2017-08-29 20:06:40|               54|\n",
      "+--------+-----+-----+--------------+------+--------------+-------------+------------+------------+------------+--------------------+-----------+--------------------+------------------+-------------------+-------------------+-----------------+\n",
      "only showing top 5 rows\n",
      "\n"
     ]
    }
   ],
   "source": [
    "df.show(5)"
   ]
  },
  {
   "cell_type": "markdown",
   "metadata": {},
   "source": [
    "### Check data types"
   ]
  },
  {
   "cell_type": "code",
   "execution_count": 7,
   "metadata": {},
   "outputs": [
    {
     "name": "stdout",
     "output_type": "stream",
     "text": [
      "root\n",
      " |-- id: string (nullable = true)\n",
      " |-- rated: boolean (nullable = true)\n",
      " |-- turns: integer (nullable = true)\n",
      " |-- victory_status: string (nullable = true)\n",
      " |-- winner: string (nullable = true)\n",
      " |-- increment_code: string (nullable = true)\n",
      " |-- white_id: string (nullable = true)\n",
      " |-- white_rating: integer (nullable = true)\n",
      " |-- black_id: string (nullable = true)\n",
      " |-- black_rating: integer (nullable = true)\n",
      " |-- moves: string (nullable = true)\n",
      " |-- opening_eco: string (nullable = true)\n",
      " |-- opening_name: string (nullable = true)\n",
      " |-- opening_move_count: integer (nullable = true)\n",
      " |-- game_start: timestamp (nullable = true)\n",
      " |-- game_end: timestamp (nullable = true)\n",
      " |-- rating_difference: integer (nullable = true)\n",
      "\n"
     ]
    }
   ],
   "source": [
    "df.printSchema()"
   ]
  },
  {
   "cell_type": "markdown",
   "metadata": {},
   "source": [
    "### Aggregations"
   ]
  },
  {
   "cell_type": "code",
   "execution_count": 8,
   "metadata": {},
   "outputs": [
    {
     "name": "stdout",
     "output_type": "stream",
     "text": [
      "+-----+-----+--------------------+--------------------+\n",
      "|rated|count|average white rating|average black rating|\n",
      "+-----+-----+--------------------+--------------------+\n",
      "| true|16155|                1597|                1594|\n",
      "|false| 3903|                1595|                1569|\n",
      "+-----+-----+--------------------+--------------------+\n",
      "\n"
     ]
    }
   ],
   "source": [
    "# average rating for players grouped by whether the game was ranked or not\n",
    "\n",
    "df\\\n",
    "    .groupBy(\"rated\")\\\n",
    "    .agg(\n",
    "        sf.count(df.id).alias(\"count\"),\n",
    "        sf.round(sf.mean(df.white_rating)).cast(\"int\").alias(\"average white rating\"),\n",
    "        sf.round(sf.mean(df.black_rating)).cast(\"int\").alias(\"average black rating\")\n",
    "    )\\\n",
    "    .show()"
   ]
  },
  {
   "cell_type": "code",
   "execution_count": 9,
   "metadata": {},
   "outputs": [
    {
     "name": "stdout",
     "output_type": "stream",
     "text": [
      "+---------------------------------------------+------------+-------------------+-------------------+\n",
      "|opening_name                                 |games played|median white rating|median black rating|\n",
      "+---------------------------------------------+------------+-------------------+-------------------+\n",
      "|Van't Kruijs Opening                         |368         |1319               |1406               |\n",
      "|Sicilian Defense                             |358         |1514               |1583               |\n",
      "|Sicilian Defense: Bowdler Attack             |296         |1536               |1569               |\n",
      "|French Defense: Knight Variation             |271         |1560               |1578               |\n",
      "|Scotch Game                                  |271         |1535               |1499               |\n",
      "|Scandinavian Defense: Mieses-Kotroc Variation|259         |1533               |1467               |\n",
      "|Queen's Pawn Game: Mason Attack              |232         |1645               |1564               |\n",
      "|Queen's Pawn Game: Chigorin Variation        |229         |1500               |1500               |\n",
      "|Scandinavian Defense                         |223         |1334               |1383               |\n",
      "|Horwitz Defense                              |209         |1555               |1521               |\n",
      "+---------------------------------------------+------------+-------------------+-------------------+\n",
      "only showing top 10 rows\n",
      "\n"
     ]
    }
   ],
   "source": [
    "# most popular openings and median rank of the players\n",
    "\n",
    "df\\\n",
    "    .groupBy('opening_name')\\\n",
    "    .agg(\n",
    "        sf.count(df.id).alias(\"games played\"),\n",
    "        sf.median(df.white_rating).cast(\"int\").alias(\"median white rating\"),\n",
    "        sf.median(df.black_rating).cast(\"int\").alias(\"median black rating\")\n",
    "    )\\\n",
    "    .sort(sf.desc(\"games played\"))\\\n",
    "    .show(10, truncate=False)"
   ]
  },
  {
   "cell_type": "code",
   "execution_count": 10,
   "metadata": {},
   "outputs": [
    {
     "name": "stdout",
     "output_type": "stream",
     "text": [
      "+------+--------------+-----+\n",
      "|winner|victory_status|count|\n",
      "+------+--------------+-----+\n",
      "| white|        resign| 5844|\n",
      "| black|        resign| 5303|\n",
      "| white|          mate| 3344|\n",
      "| black|          mate| 2981|\n",
      "|  draw|          draw|  906|\n",
      "| black|     outoftime|  823|\n",
      "| white|     outoftime|  813|\n",
      "|  draw|     outoftime|   44|\n",
      "+------+--------------+-----+\n",
      "\n"
     ]
    }
   ],
   "source": [
    "# number of game results by reason (victory status)\n",
    "\n",
    "df\\\n",
    "    .groupBy(\"winner\", \"victory_status\")\\\n",
    "    .agg(sf.count(df.id).alias(\"count\"))\\\n",
    "    .sort(sf.desc(\"count\"))\\\n",
    "    .show()"
   ]
  },
  {
   "cell_type": "code",
   "execution_count": 11,
   "metadata": {},
   "outputs": [
    {
     "name": "stdout",
     "output_type": "stream",
     "text": [
      "+--------------+----------+------------+----------+------------------------+\n",
      "|victory_status|mean turns|median turns|turns mode|turns standard deviation|\n",
      "+--------------+----------+------------+----------+------------------------+\n",
      "|        resign|     53.91|        50.0|        45|                   29.67|\n",
      "|          mate|     65.42|        59.0|        52|                   33.25|\n",
      "|          draw|     83.78|        86.0|       107|                   45.32|\n",
      "+--------------+----------+------------+----------+------------------------+\n",
      "\n"
     ]
    }
   ],
   "source": [
    "# measures of central tendency + standard deviation for the number of turns played\n",
    "# grouped by victory status with no out of time category\n",
    "\n",
    "df\\\n",
    "    .filter(df.victory_status != \"outoftime\")\\\n",
    "    .groupBy(\"victory_status\")\\\n",
    "    .agg(\n",
    "        sf.round(sf.mean(df.turns), 2).alias(\"mean turns\"),\n",
    "        sf.round(sf.median(df.turns), 2).alias(\"median turns\"),\n",
    "        sf.mode(df.turns).alias(\"turns mode\"),\n",
    "        sf.round(sf.std(df.turns), 2).alias(\"turns standard deviation\")\n",
    "    )\\\n",
    "    .show()"
   ]
  },
  {
   "cell_type": "code",
   "execution_count": 12,
   "metadata": {},
   "outputs": [
    {
     "name": "stdout",
     "output_type": "stream",
     "text": [
      "+--------------+---------------+\n",
      "|increment_code|number of games|\n",
      "+--------------+---------------+\n",
      "|          10+0|           7721|\n",
      "|          15+0|           1311|\n",
      "|         15+15|            850|\n",
      "|           5+5|            738|\n",
      "|           5+8|            697|\n",
      "+--------------+---------------+\n",
      "only showing top 5 rows\n",
      "\n"
     ]
    }
   ],
   "source": [
    "# most popular time controls\n",
    "\n",
    "df\\\n",
    "    .groupBy(\"increment_code\")\\\n",
    "    .agg(sf.count(df.id).alias(\"number of games\"))\\\n",
    "    .sort(sf.desc(\"number of games\"))\\\n",
    "    .show(5)"
   ]
  },
  {
   "cell_type": "markdown",
   "metadata": {},
   "source": [
    "### Pivoting + UDF"
   ]
  },
  {
   "cell_type": "code",
   "execution_count": 13,
   "metadata": {},
   "outputs": [],
   "source": [
    "# function to get rid of variations in openings\n",
    "def get_main_opening_name(opening_name):\n",
    "    result_list = re.split(\"(\\s\\|)|(:\\s)|(\\s#)\", opening_name)\n",
    "    return result_list[0]\n",
    "\n",
    "# register get_main_opening_name as a UDF (user defined function)\n",
    "main_opening_name_udf = sf.udf(get_main_opening_name, \"STRING\")"
   ]
  },
  {
   "cell_type": "code",
   "execution_count": 14,
   "metadata": {},
   "outputs": [
    {
     "name": "stdout",
     "output_type": "stream",
     "text": [
      "+---------------------------------+------+-------+---------+-------+\n",
      "|opening_name                     |draw  |mate   |outoftime|resign |\n",
      "+---------------------------------+------+-------+---------+-------+\n",
      "|Alekhine Defense                 |-34.6 |104.69 |-0.06    |9.36   |\n",
      "|Amar Opening                     |NULL  |-382.67|-197.25  |-178.57|\n",
      "|Amazon Attack                    |483.0 |-39.0  |NULL     |-39.0  |\n",
      "|Anderssen Opening                |-108.0|15.58  |-36.0    |147.36 |\n",
      "|Australian Defense               |NULL  |425.0  |NULL     |NULL   |\n",
      "|Barnes Defense                   |35.0  |159.57 |243.0    |185.17 |\n",
      "|Barnes Opening                   |360.0 |-209.0 |NULL     |NULL   |\n",
      "|Benko Gambit                     |-254.0|-103.0 |-231.0   |-47.2  |\n",
      "|Benko Gambit Accepted            |NULL  |-111.0 |NULL     |37.0   |\n",
      "|Benko Gambit Declined            |NULL  |NULL   |NULL     |86.33  |\n",
      "|Benoni Defense                   |114.86|6.57   |-155.3   |11.91  |\n",
      "|Bird Opening                     |-51.13|-66.5  |-30.0    |8.3    |\n",
      "|Bishop's Opening                 |44.88 |43.78  |36.29    |24.0   |\n",
      "|Blackmar-Diemer Gambit           |NULL  |-24.11 |-34.0    |-22.15 |\n",
      "|Blackmar-Diemer Gambit Declined  |NULL  |309.0  |107.0    |-44.33 |\n",
      "|Blumenfeld Countergambit         |NULL  |-202.0 |NULL     |105.29 |\n",
      "|Blumenfeld Countergambit Accepted|NULL  |NULL   |NULL     |2.75   |\n",
      "|Bogo-Indian Defense              |-88.0 |178.0  |-189.0   |213.4  |\n",
      "|Borg Defense                     |NULL  |103.43 |404.0    |-36.8  |\n",
      "|Budapest Defense                 |NULL  |-70.27 |NULL     |-27.64 |\n",
      "+---------------------------------+------+-------+---------+-------+\n",
      "only showing top 20 rows\n",
      "\n"
     ]
    }
   ],
   "source": [
    "# get clean opening name with average rating difference per victory status\n",
    "df\\\n",
    "    .withColumn(\"opening_name\", main_opening_name_udf(\"opening_name\"))\\\n",
    "    .groupBy(\"opening_name\")\\\n",
    "    .pivot(\"victory_status\")\\\n",
    "    .agg(sf.round(sf.mean(\"rating_difference\"), 2))\\\n",
    "    .sort(\"opening_name\")\\\n",
    "    .show(truncate=False)"
   ]
  },
  {
   "cell_type": "markdown",
   "metadata": {},
   "source": [
    "### Rollup and Cube"
   ]
  },
  {
   "cell_type": "code",
   "execution_count": 15,
   "metadata": {},
   "outputs": [
    {
     "name": "stdout",
     "output_type": "stream",
     "text": [
      "+--------------+--------------+---------------+\n",
      "|increment_code|victory status|number of games|\n",
      "+--------------+--------------+---------------+\n",
      "|          NULL|          NULL|          20058|\n",
      "|          0+12|          NULL|              5|\n",
      "|          0+12|          draw|              1|\n",
      "|          0+12|          mate|              1|\n",
      "|          0+12|        resign|              3|\n",
      "|          0+13|          NULL|              1|\n",
      "|          0+13|        resign|              1|\n",
      "|          0+15|          NULL|              8|\n",
      "|          0+15|          mate|              1|\n",
      "|          0+15|     outoftime|              1|\n",
      "|          0+15|        resign|              6|\n",
      "|          0+16|          NULL|             15|\n",
      "|          0+16|          draw|              1|\n",
      "|          0+16|          mate|              1|\n",
      "|          0+16|     outoftime|             11|\n",
      "|          0+16|        resign|              2|\n",
      "|         0+180|          NULL|              9|\n",
      "|         0+180|     outoftime|              1|\n",
      "|         0+180|        resign|              8|\n",
      "|          0+20|          NULL|              1|\n",
      "+--------------+--------------+---------------+\n",
      "only showing top 20 rows\n",
      "\n"
     ]
    }
   ],
   "source": [
    "# get a rollup summary count of games on increment code and victory status\n",
    "df\\\n",
    "    .rollup(\"increment_code\", \"victory_status\")\\\n",
    "    .count()\\\n",
    "    .orderBy(\"increment_code\", \"victory_status\")\\\n",
    "    .withColumnsRenamed(\n",
    "        {\n",
    "            \"increment_code\": \"increment_code\",\n",
    "            \"victory_status\": \"victory status\",\n",
    "            \"count\": \"number of games\"\n",
    "        }\n",
    "    )\\\n",
    "    .show()"
   ]
  },
  {
   "cell_type": "code",
   "execution_count": 16,
   "metadata": {},
   "outputs": [
    {
     "name": "stdout",
     "output_type": "stream",
     "text": [
      "+--------------+--------------+---------------+\n",
      "|increment_code|victory status|number of games|\n",
      "+--------------+--------------+---------------+\n",
      "|          NULL|          NULL|          20058|\n",
      "|          NULL|          draw|            906|\n",
      "|          NULL|          mate|           6325|\n",
      "|          NULL|     outoftime|           1680|\n",
      "|          NULL|        resign|          11147|\n",
      "|          0+12|          NULL|              5|\n",
      "|          0+12|          draw|              1|\n",
      "|          0+12|          mate|              1|\n",
      "|          0+12|        resign|              3|\n",
      "|          0+13|          NULL|              1|\n",
      "|          0+13|        resign|              1|\n",
      "|          0+15|          NULL|              8|\n",
      "|          0+15|          mate|              1|\n",
      "|          0+15|     outoftime|              1|\n",
      "|          0+15|        resign|              6|\n",
      "|          0+16|          NULL|             15|\n",
      "|          0+16|          draw|              1|\n",
      "|          0+16|          mate|              1|\n",
      "|          0+16|     outoftime|             11|\n",
      "|          0+16|        resign|              2|\n",
      "+--------------+--------------+---------------+\n",
      "only showing top 20 rows\n",
      "\n"
     ]
    }
   ],
   "source": [
    "# get a cube summary count of games on increment code and victory status\n",
    "df\\\n",
    "    .cube(\"increment_code\", \"victory_status\")\\\n",
    "    .count()\\\n",
    "    .orderBy(\"increment_code\", \"victory_status\")\\\n",
    "    .withColumnsRenamed(\n",
    "        {\n",
    "            \"increment_code\": \"increment_code\",\n",
    "            \"victory_status\": \"victory status\",\n",
    "            \"count\": \"number of games\"\n",
    "        }\n",
    "    )\\\n",
    "    .show()"
   ]
  },
  {
   "cell_type": "markdown",
   "metadata": {},
   "source": [
    "### Window functions"
   ]
  },
  {
   "cell_type": "code",
   "execution_count": 17,
   "metadata": {},
   "outputs": [
    {
     "name": "stdout",
     "output_type": "stream",
     "text": [
      "+----------+-------------------------------+------------------------------+\n",
      "|       day|running total moves over 7 days|running mean moves over 7 days|\n",
      "+----------+-------------------------------+------------------------------+\n",
      "|2013-08-17|                             62|                          62.0|\n",
      "|2013-08-19|                            224|                         112.0|\n",
      "|2013-08-20|                            298|                         99.33|\n",
      "|2013-08-21|                            327|                         81.75|\n",
      "|2013-09-14|                            742|                         148.4|\n",
      "|2013-09-15|                            934|                        155.67|\n",
      "|2013-09-16|                           1041|                        148.71|\n",
      "|2013-09-17|                           1104|                         138.0|\n",
      "|2013-09-20|                           1150|                        143.75|\n",
      "|2013-12-02|                           1145|                        143.13|\n",
      "|2013-12-11|                           1234|                        154.25|\n",
      "|2013-12-15|                           1327|                        165.88|\n",
      "|2013-12-27|                            961|                        120.13|\n",
      "|2013-12-28|                           1080|                         135.0|\n",
      "|2013-12-29|                           1569|                        196.13|\n",
      "|2013-12-30|                           1907|                        238.38|\n",
      "|2013-12-31|                           1814|                        226.75|\n",
      "|2014-01-01|                           2941|                        367.63|\n",
      "|2014-01-02|                           3064|                         383.0|\n",
      "|2014-01-03|                           3089|                        386.13|\n",
      "+----------+-------------------------------+------------------------------+\n",
      "only showing top 20 rows\n",
      "\n"
     ]
    }
   ],
   "source": [
    "# specify the window specification\n",
    "window_spec = Window\\\n",
    "    .orderBy(\"day\")\\\n",
    "    .rowsBetween(-7, 0)\n",
    "\n",
    "# get running total moves from last week\n",
    "df\\\n",
    "    .withColumn(\"day\", sf.to_date(df.game_start))\\\n",
    "    .groupBy(\"day\")\\\n",
    "    .agg(sf.sum(df.turns).alias(\"sum\"))\\\n",
    "    .select(\n",
    "        \"day\",\n",
    "        sf.sum(\"sum\").over(window_spec).alias(\"running total moves over 7 days\"),\n",
    "        sf.round(sf.mean(\"sum\").over(window_spec), 2).alias(\"running mean moves over 7 days\")\n",
    "    )\\\n",
    "    .orderBy(\"day\")\\\n",
    "    .show()"
   ]
  },
  {
   "cell_type": "code",
   "execution_count": 18,
   "metadata": {},
   "outputs": [
    {
     "data": {
      "text/plain": [
       "'taranga'"
      ]
     },
     "execution_count": 18,
     "metadata": {},
     "output_type": "execute_result"
    }
   ],
   "source": [
    "# find the most active player with white pieces\n",
    "df\\\n",
    "    .select(\"white_id\", \"game_start\")\\\n",
    "    .groupBy(\"white_id\")\\\n",
    "    .agg(sf.count(\"game_start\").alias(\"games_played\"))\\\n",
    "    .orderBy(sf.desc(\"games_played\"))\\\n",
    "    .collect()[0].white_id"
   ]
  },
  {
   "cell_type": "code",
   "execution_count": 19,
   "metadata": {},
   "outputs": [
    {
     "name": "stdout",
     "output_type": "stream",
     "text": [
      "+-------------------+-----+------+------------+-------------+\n",
      "|         game_start|rated|winner|white_rating|rating_change|\n",
      "+-------------------+-----+------+------------+-------------+\n",
      "|2017-08-19 01:46:40| true| white|        1240|         NULL|\n",
      "|2017-08-21 20:26:40| true| black|        1222|          -18|\n",
      "|2017-08-22 13:06:40| true| white|        1221|           -1|\n",
      "|2017-08-23 19:40:00| true| black|        1288|           67|\n",
      "|2017-08-23 19:40:00| true| black|        1274|          -14|\n",
      "|2017-08-23 19:40:00| true|  draw|        1259|          -15|\n",
      "|2017-08-24 15:06:40| true| black|        1281|           22|\n",
      "|2017-08-24 15:27:29| true| black|        1281|            0|\n",
      "|2017-08-24 15:27:29| true| black|        1281|            0|\n",
      "|2017-08-24 15:27:29| true| black|        1281|            0|\n",
      "|2017-08-24 19:44:18|false| white|        1280|           -1|\n",
      "|2017-08-24 19:44:18|false| white|        1280|            0|\n",
      "|2017-08-24 19:44:18|false| white|        1280|            0|\n",
      "|2017-08-24 20:40:00|false| white|        1280|            0|\n",
      "|2017-08-25 13:20:00| true| white|        1280|            0|\n",
      "|2017-08-25 14:21:19| true| white|        1280|            0|\n",
      "|2017-08-25 14:21:19| true| white|        1280|            0|\n",
      "|2017-08-25 14:21:19| true| white|        1280|            0|\n",
      "|2017-08-25 18:53:20|false| white|        1289|            9|\n",
      "|2017-08-25 18:57:21|false| white|        1289|            0|\n",
      "+-------------------+-----+------+------------+-------------+\n",
      "only showing top 20 rows\n",
      "\n"
     ]
    }
   ],
   "source": [
    "# get their rating change on a game level\n",
    "window_spec = Window\\\n",
    "    .orderBy(\"game_start\")\n",
    "\n",
    "df\\\n",
    "    .filter(df.white_id == \"taranga\")\\\n",
    "    .withColumn(\"rating_change\", df.white_rating - sf.lag(\"white_rating\", 1).over(window_spec))\\\n",
    "    .select(\"game_start\", \"rated\", \"winner\", \"white_rating\", \"rating_change\")\\\n",
    "    .show()"
   ]
  },
  {
   "cell_type": "code",
   "execution_count": 20,
   "metadata": {},
   "outputs": [
    {
     "name": "stdout",
     "output_type": "stream",
     "text": [
      "+----------+-------------------------------------+\n",
      "|       day|running total games count over 7 days|\n",
      "+----------+-------------------------------------+\n",
      "|2013-08-17|                                    2|\n",
      "|2013-08-19|                                    5|\n",
      "|2013-08-20|                                    7|\n",
      "|2013-08-21|                                    8|\n",
      "|2013-09-14|                                   15|\n",
      "|2013-09-15|                                   18|\n",
      "|2013-09-16|                                   20|\n",
      "|2013-09-17|                                   22|\n",
      "|2013-09-20|                                   21|\n",
      "|2013-12-02|                                   20|\n",
      "|2013-12-11|                                   20|\n",
      "|2013-12-15|                                   20|\n",
      "|2013-12-27|                                   14|\n",
      "|2013-12-28|                                   19|\n",
      "|2013-12-29|                                   26|\n",
      "|2013-12-30|                                   30|\n",
      "|2013-12-31|                                   30|\n",
      "|2014-01-01|                                   55|\n",
      "|2014-01-02|                                   58|\n",
      "|2014-01-03|                                   60|\n",
      "+----------+-------------------------------------+\n",
      "only showing top 20 rows\n",
      "\n"
     ]
    }
   ],
   "source": [
    "window_spec = Window\\\n",
    "    .orderBy(\"day\")\\\n",
    "    .rowsBetween(-7, 0)\n",
    "\n",
    "# running total of games played over 1 week\n",
    "df\\\n",
    "    .withColumn(\"day\", sf.to_date(df.game_start))\\\n",
    "    .groupBy(\"day\")\\\n",
    "    .agg(\n",
    "        sf.count(df.id).alias(\"game_count\")\n",
    "    )\\\n",
    "    .select(\n",
    "        \"day\",\n",
    "        sf.sum(\"game_count\").over(window_spec).alias(\"running total games count over 7 days\")\n",
    "    )\\\n",
    "    .orderBy(\"day\")\\\n",
    "    .show()"
   ]
  },
  {
   "cell_type": "markdown",
   "metadata": {},
   "source": [
    "### SQL in PySpark"
   ]
  },
  {
   "cell_type": "code",
   "execution_count": 21,
   "metadata": {},
   "outputs": [],
   "source": [
    "df.createOrReplaceTempView(\"chess_games\")"
   ]
  },
  {
   "cell_type": "code",
   "execution_count": 22,
   "metadata": {},
   "outputs": [
    {
     "name": "stdout",
     "output_type": "stream",
     "text": [
      "+--------------+-------------------+\n",
      "|increment code|max number of turns|\n",
      "+--------------+-------------------+\n",
      "|8+10          |146                |\n",
      "|14+0          |108                |\n",
      "|20+9          |28                 |\n",
      "|1+13          |45                 |\n",
      "|14+8          |104                |\n",
      "|5+30          |87                 |\n",
      "|10+6          |132                |\n",
      "|20+120        |52                 |\n",
      "|18+0          |130                |\n",
      "|10+1          |154                |\n",
      "+--------------+-------------------+\n",
      "\n"
     ]
    }
   ],
   "source": [
    "# 10 time controls that reached the highest number of turns\n",
    "\n",
    "query = \"\"\"\n",
    "    SELECT increment_code, MAX(turns) AS max_number_of_turns\n",
    "    FROM chess_games\n",
    "    GROUP BY increment_code\n",
    "    ORDER BY \"max number of turns\" DESC\n",
    "    LIMIT 10;\n",
    "\"\"\"\n",
    "\n",
    "result = spark.sql(query)\n",
    "result\\\n",
    "    .withColumnsRenamed(\n",
    "        {\n",
    "            \"increment_code\": \"increment code\",\n",
    "            \"max_number_of_turns\": \"max number of turns\"\n",
    "        }\n",
    "    )\\\n",
    "    .show(truncate=False)"
   ]
  },
  {
   "cell_type": "code",
   "execution_count": 23,
   "metadata": {},
   "outputs": [
    {
     "name": "stdout",
     "output_type": "stream",
     "text": [
      "+--------------+----------------------+\n",
      "|increment code|mean rating difference|\n",
      "+--------------+----------------------+\n",
      "|          4+12|                 815.0|\n",
      "|         40+40|                 804.0|\n",
      "|          3+35|                 659.0|\n",
      "|         30+40|                 650.0|\n",
      "|         18+19|                 565.0|\n",
      "|         60+10|                539.33|\n",
      "|         14+15|                 498.0|\n",
      "|         15+25|                 477.0|\n",
      "|         30+20|                476.25|\n",
      "|         17+11|                 457.0|\n",
      "+--------------+----------------------+\n",
      "\n"
     ]
    }
   ],
   "source": [
    "# 10 time controls with the highest average rating difference\n",
    "\n",
    "query = \"\"\"\n",
    "    SELECT increment_code, ROUND(AVG(rating_difference), 2) AS mean_rating_difference\n",
    "    FROM chess_games\n",
    "    GROUP BY increment_code\n",
    "    ORDER BY mean_rating_difference DESC\n",
    "    LIMIT 10;\n",
    "\"\"\"\n",
    "\n",
    "result = spark.sql(query)\n",
    "result\\\n",
    "    .withColumnsRenamed(\n",
    "        {\n",
    "            \"increment_code\": \"increment code\",\n",
    "            \"mean_rating_difference\": \"mean rating difference\"\n",
    "        }\n",
    "    )\\\n",
    "    .show()"
   ]
  },
  {
   "cell_type": "code",
   "execution_count": 24,
   "metadata": {},
   "outputs": [],
   "source": [
    "# disconnect from spark session\n",
    "spark.stop()"
   ]
  }
 ],
 "metadata": {
  "kernelspec": {
   "display_name": "spark",
   "language": "python",
   "name": "python3"
  },
  "language_info": {
   "codemirror_mode": {
    "name": "ipython",
    "version": 3
   },
   "file_extension": ".py",
   "mimetype": "text/x-python",
   "name": "python",
   "nbconvert_exporter": "python",
   "pygments_lexer": "ipython3",
   "version": "3.11.8"
  }
 },
 "nbformat": 4,
 "nbformat_minor": 2
}
