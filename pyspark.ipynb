{
 "cells": [
  {
   "cell_type": "markdown",
   "metadata": {},
   "source": [
    "## Table of Contents\n",
    "\n",
    "- [SparkSession](#SparkSession)\n",
    "- [Get Timestamps](#ConvertTime)\n",
    "- [Aggregations](#aggregations)"
   ]
  },
  {
   "cell_type": "code",
   "execution_count": 35,
   "metadata": {},
   "outputs": [],
   "source": [
    "from pyspark.sql import SparkSession\n",
    "from pyspark.sql import functions as sf\n",
    "from pyspark.sql.window import Window\n",
    "import re"
   ]
  },
  {
   "cell_type": "markdown",
   "metadata": {},
   "source": [
    "### <a id=\"SparkSession\">SparkSession + config options</a>"
   ]
  },
  {
   "cell_type": "code",
   "execution_count": 2,
   "metadata": {},
   "outputs": [],
   "source": [
    "spark = SparkSession\\\n",
    "    .builder\\\n",
    "    .appName(\"PySpark learning\")\\\n",
    "    .config(\"spark.driver.memory\", \"2g\")\\\n",
    "    .getOrCreate()"
   ]
  },
  {
   "cell_type": "markdown",
   "metadata": {},
   "source": [
    "### Reading csv file with header"
   ]
  },
  {
   "cell_type": "code",
   "execution_count": 3,
   "metadata": {},
   "outputs": [],
   "source": [
    "df = spark\\\n",
    "    .read\\\n",
    "    .option(\"header\", \"true\")\\\n",
    "    .option(\"inferSchema\", 'true')\\\n",
    "    .csv(\"data/chess_games.csv\")"
   ]
  },
  {
   "cell_type": "code",
   "execution_count": 4,
   "metadata": {},
   "outputs": [
    {
     "name": "stdout",
     "output_type": "stream",
     "text": [
      "+--------+-----+----------+------------+-----+--------------+------+--------------+-------------+------------+------------+------------+--------------------+-----------+--------------------+-----------+\n",
      "|      id|rated|created_at|last_move_at|turns|victory_status|winner|increment_code|     white_id|white_rating|    black_id|black_rating|               moves|opening_eco|        opening_name|opening_ply|\n",
      "+--------+-----+----------+------------+-----+--------------+------+--------------+-------------+------------+------------+------------+--------------------+-----------+--------------------+-----------+\n",
      "|TZJHLljE|false|1.50421E12|  1.50421E12|   13|     outoftime| white|          15+2|     bourgris|        1500|        a-00|        1191|d4 d5 c4 c6 cxd5 ...|        D10|Slav Defense: Exc...|          5|\n",
      "|l1NXvwaE| true|1.50413E12|  1.50413E12|   16|        resign| black|          5+10|         a-00|        1322|   skinnerua|        1261|d4 Nc6 e4 e5 f4 f...|        B00|Nimzowitsch Defen...|          4|\n",
      "|mIICvQHh| true|1.50413E12|  1.50413E12|   61|          mate| white|          5+10|       ischia|        1496|        a-00|        1500|e4 e5 d3 d6 Be3 c...|        C20|King's Pawn Game:...|          3|\n",
      "|kWKvrqYL| true|1.50411E12|  1.50411E12|   61|          mate| white|          20+0|daniamurashov|        1439|adivanov2009|        1454|d4 d5 Nf3 Bf5 Nc3...|        D02|Queen's Pawn Game...|          3|\n",
      "|9tXo1AUZ| true|1.50403E12|  1.50403E12|   95|          mate| white|          30+3|    nik221107|        1523|adivanov2009|        1469|e4 e5 Nf3 d6 d4 N...|        C41|    Philidor Defense|          5|\n",
      "+--------+-----+----------+------------+-----+--------------+------+--------------+-------------+------------+------------+------------+--------------------+-----------+--------------------+-----------+\n",
      "only showing top 5 rows\n",
      "\n"
     ]
    }
   ],
   "source": [
    "df.show(5)"
   ]
  },
  {
   "cell_type": "markdown",
   "metadata": {},
   "source": [
    "### <a id=\"ConvertTime\">Assigning new columns and changing existing ones</a>"
   ]
  },
  {
   "cell_type": "code",
   "execution_count": 5,
   "metadata": {},
   "outputs": [],
   "source": [
    "df = df\\\n",
    "    .withColumn(\"game_start\", sf.to_timestamp(sf.from_unixtime(df.created_at / 1000)))\\\n",
    "    .withColumn(\"game_end\", sf.to_timestamp(sf.from_unixtime(df.last_move_at / 1000)))\\\n",
    "    .withColumn(\"rating_difference\", df.white_rating - df.black_rating)\\\n",
    "    .drop(\"created_at\", \"last_move_at\")\\\n",
    "    .withColumnRenamed(\"opening_ply\", \"opening_move_count\")"
   ]
  },
  {
   "cell_type": "code",
   "execution_count": 6,
   "metadata": {},
   "outputs": [
    {
     "name": "stdout",
     "output_type": "stream",
     "text": [
      "+--------+-----+-----+--------------+------+--------------+-------------+------------+------------+------------+--------------------+-----------+--------------------+------------------+-------------------+-------------------+-----------------+\n",
      "|      id|rated|turns|victory_status|winner|increment_code|     white_id|white_rating|    black_id|black_rating|               moves|opening_eco|        opening_name|opening_move_count|         game_start|           game_end|rating_difference|\n",
      "+--------+-----+-----+--------------+------+--------------+-------------+------------+------------+------------+--------------------+-----------+--------------------+------------------+-------------------+-------------------+-----------------+\n",
      "|TZJHLljE|false|   13|     outoftime| white|          15+2|     bourgris|        1500|        a-00|        1191|d4 d5 c4 c6 cxd5 ...|        D10|Slav Defense: Exc...|                 5|2017-08-31 22:06:40|2017-08-31 22:06:40|              309|\n",
      "|l1NXvwaE| true|   16|        resign| black|          5+10|         a-00|        1322|   skinnerua|        1261|d4 Nc6 e4 e5 f4 f...|        B00|Nimzowitsch Defen...|                 4|2017-08-30 23:53:20|2017-08-30 23:53:20|               61|\n",
      "|mIICvQHh| true|   61|          mate| white|          5+10|       ischia|        1496|        a-00|        1500|e4 e5 d3 d6 Be3 c...|        C20|King's Pawn Game:...|                 3|2017-08-30 23:53:20|2017-08-30 23:53:20|               -4|\n",
      "|kWKvrqYL| true|   61|          mate| white|          20+0|daniamurashov|        1439|adivanov2009|        1454|d4 d5 Nf3 Bf5 Nc3...|        D02|Queen's Pawn Game...|                 3|2017-08-30 18:20:00|2017-08-30 18:20:00|              -15|\n",
      "|9tXo1AUZ| true|   95|          mate| white|          30+3|    nik221107|        1523|adivanov2009|        1469|e4 e5 Nf3 d6 d4 N...|        C41|    Philidor Defense|                 5|2017-08-29 20:06:40|2017-08-29 20:06:40|               54|\n",
      "+--------+-----+-----+--------------+------+--------------+-------------+------------+------------+------------+--------------------+-----------+--------------------+------------------+-------------------+-------------------+-----------------+\n",
      "only showing top 5 rows\n",
      "\n"
     ]
    }
   ],
   "source": [
    "df.show(5)"
   ]
  },
  {
   "cell_type": "markdown",
   "metadata": {},
   "source": [
    "### Check data types"
   ]
  },
  {
   "cell_type": "code",
   "execution_count": 7,
   "metadata": {},
   "outputs": [
    {
     "name": "stdout",
     "output_type": "stream",
     "text": [
      "root\n",
      " |-- id: string (nullable = true)\n",
      " |-- rated: boolean (nullable = true)\n",
      " |-- turns: integer (nullable = true)\n",
      " |-- victory_status: string (nullable = true)\n",
      " |-- winner: string (nullable = true)\n",
      " |-- increment_code: string (nullable = true)\n",
      " |-- white_id: string (nullable = true)\n",
      " |-- white_rating: integer (nullable = true)\n",
      " |-- black_id: string (nullable = true)\n",
      " |-- black_rating: integer (nullable = true)\n",
      " |-- moves: string (nullable = true)\n",
      " |-- opening_eco: string (nullable = true)\n",
      " |-- opening_name: string (nullable = true)\n",
      " |-- opening_move_count: integer (nullable = true)\n",
      " |-- game_start: timestamp (nullable = true)\n",
      " |-- game_end: timestamp (nullable = true)\n",
      " |-- rating_difference: integer (nullable = true)\n",
      "\n"
     ]
    }
   ],
   "source": [
    "df.printSchema()"
   ]
  },
  {
   "cell_type": "markdown",
   "metadata": {},
   "source": [
    "### <a id=\"Aggregations\">Aggregations</a>"
   ]
  },
  {
   "cell_type": "code",
   "execution_count": 8,
   "metadata": {},
   "outputs": [
    {
     "name": "stdout",
     "output_type": "stream",
     "text": [
      "+-----+-----+--------------------+--------------------+\n",
      "|rated|count|average white rating|average black rating|\n",
      "+-----+-----+--------------------+--------------------+\n",
      "| true|16155|                1597|                1594|\n",
      "|false| 3903|                1595|                1569|\n",
      "+-----+-----+--------------------+--------------------+\n",
      "\n"
     ]
    }
   ],
   "source": [
    "# average rating for players grouped by whether the game was ranked or not\n",
    "\n",
    "df\\\n",
    "    .groupBy(\"rated\")\\\n",
    "    .agg(\n",
    "        sf.count(df.id).alias(\"count\"),\n",
    "        sf.round(sf.mean(df.white_rating)).cast(\"int\").alias(\"average white rating\"),\n",
    "        sf.round(sf.mean(df.black_rating)).cast(\"int\").alias(\"average black rating\")\n",
    "    )\\\n",
    "    .show()"
   ]
  },
  {
   "cell_type": "code",
   "execution_count": 9,
   "metadata": {},
   "outputs": [
    {
     "name": "stdout",
     "output_type": "stream",
     "text": [
      "+---------------------------------------------+------------+-------------------+-------------------+\n",
      "|opening_name                                 |games played|median white rating|median black rating|\n",
      "+---------------------------------------------+------------+-------------------+-------------------+\n",
      "|Van't Kruijs Opening                         |368         |1319               |1406               |\n",
      "|Sicilian Defense                             |358         |1514               |1583               |\n",
      "|Sicilian Defense: Bowdler Attack             |296         |1536               |1569               |\n",
      "|French Defense: Knight Variation             |271         |1560               |1578               |\n",
      "|Scotch Game                                  |271         |1535               |1499               |\n",
      "|Scandinavian Defense: Mieses-Kotroc Variation|259         |1533               |1467               |\n",
      "|Queen's Pawn Game: Mason Attack              |232         |1645               |1564               |\n",
      "|Queen's Pawn Game: Chigorin Variation        |229         |1500               |1500               |\n",
      "|Scandinavian Defense                         |223         |1334               |1383               |\n",
      "|Horwitz Defense                              |209         |1555               |1521               |\n",
      "+---------------------------------------------+------------+-------------------+-------------------+\n",
      "only showing top 10 rows\n",
      "\n"
     ]
    }
   ],
   "source": [
    "# most popular openings and median rank of the players\n",
    "\n",
    "df\\\n",
    "    .groupBy('opening_name')\\\n",
    "    .agg(\n",
    "        sf.count(df.id).alias(\"games played\"),\n",
    "        sf.median(df.white_rating).cast(\"int\").alias(\"median white rating\"),\n",
    "        sf.median(df.black_rating).cast(\"int\").alias(\"median black rating\")\n",
    "    )\\\n",
    "    .sort(sf.desc(\"games played\"))\\\n",
    "    .show(10, truncate=False)"
   ]
  },
  {
   "cell_type": "code",
   "execution_count": 10,
   "metadata": {},
   "outputs": [
    {
     "name": "stdout",
     "output_type": "stream",
     "text": [
      "+------+--------------+-----+\n",
      "|winner|victory_status|count|\n",
      "+------+--------------+-----+\n",
      "| white|        resign| 5844|\n",
      "| black|        resign| 5303|\n",
      "| white|          mate| 3344|\n",
      "| black|          mate| 2981|\n",
      "|  draw|          draw|  906|\n",
      "| black|     outoftime|  823|\n",
      "| white|     outoftime|  813|\n",
      "|  draw|     outoftime|   44|\n",
      "+------+--------------+-----+\n",
      "\n"
     ]
    }
   ],
   "source": [
    "# number of game results by reason (victory status)\n",
    "\n",
    "df\\\n",
    "    .groupBy(\"winner\", \"victory_status\")\\\n",
    "    .agg(sf.count(df.id).alias(\"count\"))\\\n",
    "    .sort(sf.desc(\"count\"))\\\n",
    "    .show()"
   ]
  },
  {
   "cell_type": "code",
   "execution_count": 11,
   "metadata": {},
   "outputs": [
    {
     "name": "stdout",
     "output_type": "stream",
     "text": [
      "+--------------+----------+------------+----------+------------------------+\n",
      "|victory_status|mean turns|median turns|turns mode|turns standard deviation|\n",
      "+--------------+----------+------------+----------+------------------------+\n",
      "|        resign|     53.91|        50.0|        45|                   29.67|\n",
      "|          mate|     65.42|        59.0|        52|                   33.25|\n",
      "|          draw|     83.78|        86.0|       107|                   45.32|\n",
      "+--------------+----------+------------+----------+------------------------+\n",
      "\n"
     ]
    }
   ],
   "source": [
    "# measures of central tendency + standard deviation for the number of turns played\n",
    "# grouped by victory status with no out of time category\n",
    "\n",
    "df\\\n",
    "    .filter(df.victory_status != \"outoftime\")\\\n",
    "    .groupBy(\"victory_status\")\\\n",
    "    .agg(\n",
    "        sf.round(sf.mean(df.turns), 2).alias(\"mean turns\"),\n",
    "        sf.round(sf.median(df.turns), 2).alias(\"median turns\"),\n",
    "        sf.mode(df.turns).alias(\"turns mode\"),\n",
    "        sf.round(sf.std(df.turns), 2).alias(\"turns standard deviation\")\n",
    "    )\\\n",
    "    .show()"
   ]
  },
  {
   "cell_type": "code",
   "execution_count": 12,
   "metadata": {},
   "outputs": [
    {
     "name": "stdout",
     "output_type": "stream",
     "text": [
      "+--------------+---------------+\n",
      "|increment_code|number of games|\n",
      "+--------------+---------------+\n",
      "|          10+0|           7721|\n",
      "|          15+0|           1311|\n",
      "|         15+15|            850|\n",
      "|           5+5|            738|\n",
      "|           5+8|            697|\n",
      "+--------------+---------------+\n",
      "only showing top 5 rows\n",
      "\n"
     ]
    }
   ],
   "source": [
    "# most popular time controls\n",
    "\n",
    "df\\\n",
    "    .groupBy(\"increment_code\")\\\n",
    "    .agg(sf.count(df.id).alias(\"number of games\"))\\\n",
    "    .sort(sf.desc(\"number of games\"))\\\n",
    "    .show(5)"
   ]
  },
  {
   "cell_type": "markdown",
   "metadata": {},
   "source": [
    "### Pivoting + UDF"
   ]
  },
  {
   "cell_type": "code",
   "execution_count": 13,
   "metadata": {},
   "outputs": [],
   "source": [
    "# function to get rid of variations in openings\n",
    "def get_main_opening_name(opening_name):\n",
    "    result_list = re.split(\"(\\s\\|)|(:\\s)|(\\s#)\", opening_name)\n",
    "    return result_list[0]\n",
    "\n",
    "# register get_main_opening_name as a UDF (user defined function)\n",
    "main_opening_name_udf = sf.udf(get_main_opening_name, \"STRING\")"
   ]
  },
  {
   "cell_type": "code",
   "execution_count": 14,
   "metadata": {},
   "outputs": [
    {
     "name": "stdout",
     "output_type": "stream",
     "text": [
      "+---------------------------------+------+-------+---------+-------+\n",
      "|opening_name                     |draw  |mate   |outoftime|resign |\n",
      "+---------------------------------+------+-------+---------+-------+\n",
      "|Alekhine Defense                 |-34.6 |104.69 |-0.06    |9.36   |\n",
      "|Amar Opening                     |NULL  |-382.67|-197.25  |-178.57|\n",
      "|Amazon Attack                    |483.0 |-39.0  |NULL     |-39.0  |\n",
      "|Anderssen Opening                |-108.0|15.58  |-36.0    |147.36 |\n",
      "|Australian Defense               |NULL  |425.0  |NULL     |NULL   |\n",
      "|Barnes Defense                   |35.0  |159.57 |243.0    |185.17 |\n",
      "|Barnes Opening                   |360.0 |-209.0 |NULL     |NULL   |\n",
      "|Benko Gambit                     |-254.0|-103.0 |-231.0   |-47.2  |\n",
      "|Benko Gambit Accepted            |NULL  |-111.0 |NULL     |37.0   |\n",
      "|Benko Gambit Declined            |NULL  |NULL   |NULL     |86.33  |\n",
      "|Benoni Defense                   |114.86|6.57   |-155.3   |11.91  |\n",
      "|Bird Opening                     |-51.13|-66.5  |-30.0    |8.3    |\n",
      "|Bishop's Opening                 |44.88 |43.78  |36.29    |24.0   |\n",
      "|Blackmar-Diemer Gambit           |NULL  |-24.11 |-34.0    |-22.15 |\n",
      "|Blackmar-Diemer Gambit Declined  |NULL  |309.0  |107.0    |-44.33 |\n",
      "|Blumenfeld Countergambit         |NULL  |-202.0 |NULL     |105.29 |\n",
      "|Blumenfeld Countergambit Accepted|NULL  |NULL   |NULL     |2.75   |\n",
      "|Bogo-Indian Defense              |-88.0 |178.0  |-189.0   |213.4  |\n",
      "|Borg Defense                     |NULL  |103.43 |404.0    |-36.8  |\n",
      "|Budapest Defense                 |NULL  |-70.27 |NULL     |-27.64 |\n",
      "+---------------------------------+------+-------+---------+-------+\n",
      "only showing top 20 rows\n",
      "\n"
     ]
    }
   ],
   "source": [
    "# get clean opening name with average rating difference per victory status\n",
    "df\\\n",
    "    .withColumn(\"opening_name\", main_opening_name_udf(\"opening_name\"))\\\n",
    "    .groupBy(\"opening_name\")\\\n",
    "    .pivot(\"victory_status\")\\\n",
    "    .agg(sf.round(sf.mean(\"rating_difference\"), 2))\\\n",
    "    .sort(\"opening_name\")\\\n",
    "    .show(truncate=False)"
   ]
  },
  {
   "cell_type": "markdown",
   "metadata": {},
   "source": [
    "### Rollup"
   ]
  },
  {
   "cell_type": "code",
   "execution_count": 15,
   "metadata": {},
   "outputs": [
    {
     "name": "stdout",
     "output_type": "stream",
     "text": [
      "+--------------+--------------+---------------+\n",
      "|increment_code|victory status|number of games|\n",
      "+--------------+--------------+---------------+\n",
      "|          NULL|          NULL|          20058|\n",
      "|          0+12|          NULL|              5|\n",
      "|          0+12|          draw|              1|\n",
      "|          0+12|          mate|              1|\n",
      "|          0+12|        resign|              3|\n",
      "|          0+13|          NULL|              1|\n",
      "|          0+13|        resign|              1|\n",
      "|          0+15|          NULL|              8|\n",
      "|          0+15|          mate|              1|\n",
      "|          0+15|     outoftime|              1|\n",
      "|          0+15|        resign|              6|\n",
      "|          0+16|          NULL|             15|\n",
      "|          0+16|          draw|              1|\n",
      "|          0+16|          mate|              1|\n",
      "|          0+16|     outoftime|             11|\n",
      "|          0+16|        resign|              2|\n",
      "|         0+180|          NULL|              9|\n",
      "|         0+180|     outoftime|              1|\n",
      "|         0+180|        resign|              8|\n",
      "|          0+20|          NULL|              1|\n",
      "+--------------+--------------+---------------+\n",
      "only showing top 20 rows\n",
      "\n"
     ]
    }
   ],
   "source": [
    "df\\\n",
    "    .rollup(\"increment_code\", \"victory_status\")\\\n",
    "    .count()\\\n",
    "    .orderBy(\"increment_code\", \"victory_status\")\\\n",
    "    .withColumnsRenamed(\n",
    "        {\n",
    "            \"increment_code\": \"increment_code\",\n",
    "            \"victory_status\": \"victory status\",\n",
    "            \"count\": \"number of games\"\n",
    "        }\n",
    "    )\\\n",
    "    .show()"
   ]
  },
  {
   "cell_type": "markdown",
   "metadata": {},
   "source": [
    "### Window functions"
   ]
  },
  {
   "cell_type": "code",
   "execution_count": 52,
   "metadata": {},
   "outputs": [
    {
     "name": "stdout",
     "output_type": "stream",
     "text": [
      "+----------+--------------------------+----------------------------+\n",
      "|       day|running_total_moves_7_days|running_average_moves_7_days|\n",
      "+----------+--------------------------+----------------------------+\n",
      "|2013-08-17|                        43|                        43.0|\n",
      "|2013-08-17|                        62|                        31.0|\n",
      "|2013-08-19|                        51|                        51.0|\n",
      "|2013-08-19|                       135|                        67.5|\n",
      "|2013-08-19|                       162|                        54.0|\n",
      "|2013-08-20|                        35|                        35.0|\n",
      "|2013-08-20|                        74|                        37.0|\n",
      "|2013-08-21|                        29|                        29.0|\n",
      "|2013-09-14|                        69|                        69.0|\n",
      "|2013-09-14|                       130|                        65.0|\n",
      "|2013-09-14|                       167|                       55.67|\n",
      "|2013-09-14|                       194|                        48.5|\n",
      "|2013-09-14|                       255|                        51.0|\n",
      "|2013-09-14|                       296|                       49.33|\n",
      "|2013-09-14|                       415|                       59.29|\n",
      "|2013-09-15|                       103|                       103.0|\n",
      "|2013-09-15|                       162|                        81.0|\n",
      "|2013-09-15|                       192|                        64.0|\n",
      "|2013-09-16|                        51|                        51.0|\n",
      "|2013-09-16|                       107|                        53.5|\n",
      "+----------+--------------------------+----------------------------+\n",
      "only showing top 20 rows\n",
      "\n"
     ]
    }
   ],
   "source": [
    "window_spec = Window\\\n",
    "    .partitionBy(\"day\")\\\n",
    "    .orderBy(\"day\")\\\n",
    "    .rowsBetween(-7, 0)\n",
    "\n",
    "df\\\n",
    "    .withColumn(\"day\", sf.to_date(df.game_start))\\\n",
    "    .select(\n",
    "        \"day\",\n",
    "        sf.sum(\"turns\").over(window_spec).alias(\"running_total_moves_7_days\"),\n",
    "        sf.round(sf.mean(\"turns\").over(window_spec), 2).alias(\"running_average_moves_7_days\")\n",
    "    )\\\n",
    "    .show()"
   ]
  },
  {
   "cell_type": "markdown",
   "metadata": {},
   "source": [
    "### SQL in PySpark"
   ]
  },
  {
   "cell_type": "code",
   "execution_count": 13,
   "metadata": {},
   "outputs": [],
   "source": [
    "df.createOrReplaceTempView(\"chess_games\")"
   ]
  },
  {
   "cell_type": "code",
   "execution_count": 30,
   "metadata": {},
   "outputs": [
    {
     "name": "stdout",
     "output_type": "stream",
     "text": [
      "+--------------+-------------------+\n",
      "|increment code|max number of turns|\n",
      "+--------------+-------------------+\n",
      "|8+10          |146                |\n",
      "|14+0          |108                |\n",
      "|20+9          |28                 |\n",
      "|1+13          |45                 |\n",
      "|14+8          |104                |\n",
      "|5+30          |87                 |\n",
      "|10+6          |132                |\n",
      "|20+120        |52                 |\n",
      "|18+0          |130                |\n",
      "|10+1          |154                |\n",
      "+--------------+-------------------+\n",
      "\n"
     ]
    }
   ],
   "source": [
    "# 10 time controls that reached the highest number of turns\n",
    "\n",
    "query = \"\"\"\n",
    "    SELECT increment_code, MAX(turns) AS max_number_of_turns\n",
    "    FROM chess_games\n",
    "    GROUP BY increment_code\n",
    "    ORDER BY \"max number of turns\" DESC\n",
    "    LIMIT 10;\n",
    "\"\"\"\n",
    "\n",
    "result = spark.sql(query)\n",
    "result\\\n",
    "    .withColumnsRenamed(\n",
    "        {\n",
    "            \"increment_code\": \"increment code\",\n",
    "            \"max_number_of_turns\": \"max number of turns\"\n",
    "        }\n",
    "    )\\\n",
    "    .show(truncate=False)"
   ]
  },
  {
   "cell_type": "code",
   "execution_count": 31,
   "metadata": {},
   "outputs": [
    {
     "name": "stdout",
     "output_type": "stream",
     "text": [
      "+--------------+----------------------+\n",
      "|increment code|mean rating difference|\n",
      "+--------------+----------------------+\n",
      "|          4+12|                 815.0|\n",
      "|         40+40|                 804.0|\n",
      "|          3+35|                 659.0|\n",
      "|         30+40|                 650.0|\n",
      "|         18+19|                 565.0|\n",
      "|         60+10|                539.33|\n",
      "|         14+15|                 498.0|\n",
      "|         15+25|                 477.0|\n",
      "|         30+20|                476.25|\n",
      "|         17+11|                 457.0|\n",
      "+--------------+----------------------+\n",
      "\n"
     ]
    }
   ],
   "source": [
    "# 10 time controls with the highest average rating difference\n",
    "\n",
    "query = \"\"\"\n",
    "    SELECT increment_code, ROUND(AVG(rating_difference), 2) AS mean_rating_difference\n",
    "    FROM chess_games\n",
    "    GROUP BY increment_code\n",
    "    ORDER BY mean_rating_difference DESC\n",
    "    LIMIT 10;\n",
    "\"\"\"\n",
    "\n",
    "result = spark.sql(query)\n",
    "result\\\n",
    "    .withColumnsRenamed(\n",
    "        {\n",
    "            \"increment_code\": \"increment code\",\n",
    "            \"mean_rating_difference\": \"mean rating difference\"\n",
    "        }\n",
    "    )\\\n",
    "    .show()"
   ]
  },
  {
   "cell_type": "code",
   "execution_count": 7,
   "metadata": {},
   "outputs": [],
   "source": [
    "spark.stop()"
   ]
  }
 ],
 "metadata": {
  "kernelspec": {
   "display_name": "spark",
   "language": "python",
   "name": "python3"
  },
  "language_info": {
   "codemirror_mode": {
    "name": "ipython",
    "version": 3
   },
   "file_extension": ".py",
   "mimetype": "text/x-python",
   "name": "python",
   "nbconvert_exporter": "python",
   "pygments_lexer": "ipython3",
   "version": "3.11.8"
  }
 },
 "nbformat": 4,
 "nbformat_minor": 2
}
