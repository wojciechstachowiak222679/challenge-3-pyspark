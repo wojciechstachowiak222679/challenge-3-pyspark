{
 "cells": [
  {
   "cell_type": "code",
   "execution_count": 1,
   "metadata": {},
   "outputs": [],
   "source": [
    "from pyspark.sql import SparkSession"
   ]
  },
  {
   "cell_type": "code",
   "execution_count": 2,
   "metadata": {},
   "outputs": [],
   "source": [
    "spark = SparkSession\\\n",
    "    .builder\\\n",
    "    .appName(\"PySpark learning\")\\\n",
    "    .getOrCreate()"
   ]
  },
  {
   "cell_type": "code",
   "execution_count": 3,
   "metadata": {},
   "outputs": [],
   "source": [
    "df = spark.read.csv(\"data/chess_games.csv\", header=True)"
   ]
  },
  {
   "cell_type": "code",
   "execution_count": 4,
   "metadata": {},
   "outputs": [
    {
     "name": "stdout",
     "output_type": "stream",
     "text": [
      "+--------+-----+-----------+------------+-----+--------------+------+--------------+-------------+------------+------------+------------+--------------------+-----------+--------------------+-----------+\n",
      "|      id|rated| created_at|last_move_at|turns|victory_status|winner|increment_code|     white_id|white_rating|    black_id|black_rating|               moves|opening_eco|        opening_name|opening_ply|\n",
      "+--------+-----+-----------+------------+-----+--------------+------+--------------+-------------+------------+------------+------------+--------------------+-----------+--------------------+-----------+\n",
      "|TZJHLljE|FALSE|1.50421E+12| 1.50421E+12|   13|     outoftime| white|          15+2|     bourgris|        1500|        a-00|        1191|d4 d5 c4 c6 cxd5 ...|        D10|Slav Defense: Exc...|          5|\n",
      "|l1NXvwaE| TRUE|1.50413E+12| 1.50413E+12|   16|        resign| black|          5+10|         a-00|        1322|   skinnerua|        1261|d4 Nc6 e4 e5 f4 f...|        B00|Nimzowitsch Defen...|          4|\n",
      "|mIICvQHh| TRUE|1.50413E+12| 1.50413E+12|   61|          mate| white|          5+10|       ischia|        1496|        a-00|        1500|e4 e5 d3 d6 Be3 c...|        C20|King's Pawn Game:...|          3|\n",
      "|kWKvrqYL| TRUE|1.50411E+12| 1.50411E+12|   61|          mate| white|          20+0|daniamurashov|        1439|adivanov2009|        1454|d4 d5 Nf3 Bf5 Nc3...|        D02|Queen's Pawn Game...|          3|\n",
      "|9tXo1AUZ| TRUE|1.50403E+12| 1.50403E+12|   95|          mate| white|          30+3|    nik221107|        1523|adivanov2009|        1469|e4 e5 Nf3 d6 d4 N...|        C41|    Philidor Defense|          5|\n",
      "+--------+-----+-----------+------------+-----+--------------+------+--------------+-------------+------------+------------+------------+--------------------+-----------+--------------------+-----------+\n",
      "only showing top 5 rows\n",
      "\n"
     ]
    }
   ],
   "source": [
    "df.show(5)"
   ]
  },
  {
   "cell_type": "code",
   "execution_count": 5,
   "metadata": {},
   "outputs": [
    {
     "name": "stdout",
     "output_type": "stream",
     "text": [
      "root\n",
      " |-- id: string (nullable = true)\n",
      " |-- rated: string (nullable = true)\n",
      " |-- created_at: string (nullable = true)\n",
      " |-- last_move_at: string (nullable = true)\n",
      " |-- turns: string (nullable = true)\n",
      " |-- victory_status: string (nullable = true)\n",
      " |-- winner: string (nullable = true)\n",
      " |-- increment_code: string (nullable = true)\n",
      " |-- white_id: string (nullable = true)\n",
      " |-- white_rating: string (nullable = true)\n",
      " |-- black_id: string (nullable = true)\n",
      " |-- black_rating: string (nullable = true)\n",
      " |-- moves: string (nullable = true)\n",
      " |-- opening_eco: string (nullable = true)\n",
      " |-- opening_name: string (nullable = true)\n",
      " |-- opening_ply: string (nullable = true)\n",
      "\n"
     ]
    }
   ],
   "source": [
    "df.printSchema()"
   ]
  },
  {
   "cell_type": "code",
   "execution_count": 6,
   "metadata": {},
   "outputs": [
    {
     "name": "stdout",
     "output_type": "stream",
     "text": [
      "-RECORD 0------------------------------\n",
      " id             | TZJHLljE             \n",
      " rated          | FALSE                \n",
      " created_at     | 1.50421E+12          \n",
      " last_move_at   | 1.50421E+12          \n",
      " turns          | 13                   \n",
      " victory_status | outoftime            \n",
      " winner         | white                \n",
      " increment_code | 15+2                 \n",
      " white_id       | bourgris             \n",
      " white_rating   | 1500                 \n",
      " black_id       | a-00                 \n",
      " black_rating   | 1191                 \n",
      " moves          | d4 d5 c4 c6 cxd5 ... \n",
      " opening_eco    | D10                  \n",
      " opening_name   | Slav Defense: Exc... \n",
      " opening_ply    | 5                    \n",
      "only showing top 1 row\n",
      "\n"
     ]
    }
   ],
   "source": [
    "df.show(1, vertical=True)"
   ]
  },
  {
   "cell_type": "code",
   "execution_count": 7,
   "metadata": {},
   "outputs": [
    {
     "data": {
      "text/plain": [
       "['id',\n",
       " 'rated',\n",
       " 'created_at',\n",
       " 'last_move_at',\n",
       " 'turns',\n",
       " 'victory_status',\n",
       " 'winner',\n",
       " 'increment_code',\n",
       " 'white_id',\n",
       " 'white_rating',\n",
       " 'black_id',\n",
       " 'black_rating',\n",
       " 'moves',\n",
       " 'opening_eco',\n",
       " 'opening_name',\n",
       " 'opening_ply']"
      ]
     },
     "execution_count": 7,
     "metadata": {},
     "output_type": "execute_result"
    }
   ],
   "source": [
    "df.columns"
   ]
  },
  {
   "cell_type": "code",
   "execution_count": 8,
   "metadata": {},
   "outputs": [
    {
     "name": "stdout",
     "output_type": "stream",
     "text": [
      "+-------+------------------+------------------+-----------------+\n",
      "|summary|      white_rating|      black_rating|            turns|\n",
      "+-------+------------------+------------------+-----------------+\n",
      "|  count|             20058|             20058|            20058|\n",
      "|   mean|1596.6318675840064|1588.8319872370128|60.46599860404826|\n",
      "| stddev|291.25337573701825| 291.0361259603342|33.57058475353715|\n",
      "|    min|              1000|              1000|                1|\n",
      "|    max|               999|               999|               99|\n",
      "+-------+------------------+------------------+-----------------+\n",
      "\n"
     ]
    }
   ],
   "source": [
    "df.select(\"white_rating\", \"black_rating\", \"turns\")\\\n",
    "    .describe()\\\n",
    "    .show()"
   ]
  },
  {
   "cell_type": "code",
   "execution_count": 16,
   "metadata": {},
   "outputs": [
    {
     "name": "stdout",
     "output_type": "stream",
     "text": [
      "+--------+-----------------+\n",
      "|      id|rating_difference|\n",
      "+--------+-----------------+\n",
      "|TZJHLljE|            309.0|\n",
      "|l1NXvwaE|             61.0|\n",
      "|mIICvQHh|             -4.0|\n",
      "|kWKvrqYL|            -15.0|\n",
      "|9tXo1AUZ|             54.0|\n",
      "+--------+-----------------+\n",
      "only showing top 5 rows\n",
      "\n"
     ]
    }
   ],
   "source": [
    "df.withColumn(\"rating_difference\", df.white_rating - df.black_rating)\\\n",
    "    .select(\"id\", \"rating_difference\")\\\n",
    "    .show(5)"
   ]
  },
  {
   "cell_type": "code",
   "execution_count": 17,
   "metadata": {},
   "outputs": [],
   "source": [
    "spark.stop()"
   ]
  }
 ],
 "metadata": {
  "kernelspec": {
   "display_name": "spark",
   "language": "python",
   "name": "python3"
  },
  "language_info": {
   "codemirror_mode": {
    "name": "ipython",
    "version": 3
   },
   "file_extension": ".py",
   "mimetype": "text/x-python",
   "name": "python",
   "nbconvert_exporter": "python",
   "pygments_lexer": "ipython3",
   "version": "3.11.8"
  }
 },
 "nbformat": 4,
 "nbformat_minor": 2
}
